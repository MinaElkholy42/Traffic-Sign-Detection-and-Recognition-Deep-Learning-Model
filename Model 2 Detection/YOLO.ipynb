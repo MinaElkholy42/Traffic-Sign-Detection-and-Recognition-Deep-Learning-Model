{
  "nbformat": 4,
  "nbformat_minor": 0,
  "metadata": {
    "colab": {
      "name": "YOLO_Final.ipynb",
      "provenance": [],
      "collapsed_sections": []
    },
    "kernelspec": {
      "name": "python3",
      "display_name": "Python 3"
    },
    "accelerator": "GPU"
  },
  "cells": [
    {
      "cell_type": "code",
      "metadata": {
        "id": "yvLCjDey483t",
        "colab_type": "code",
        "cellView": "code",
        "colab": {}
      },
      "source": [
        "\n",
        ",_._._._._._._._._|__________________________________________________________,\n",
        "|_|_|_|_|_|_|_|_|_|_________________________________________________________/\n",
        "                  !"
      ],
      "execution_count": 0,
      "outputs": []
    },
    {
      "cell_type": "code",
      "metadata": {
        "id": "PbRTZ5ks24kk",
        "colab_type": "code",
        "cellView": "form",
        "colab": {}
      },
      "source": [
        "#@title Colab Helper Function { form-width: \"10%\" }\n",
        "!rm -rf OID    # to delete a folder\n",
        "\n",
        "#@title Preventing Colab From Dissconecting\n",
        "#ctrl+shift+i then choose console and paste the\n",
        "#code then hit enter\n",
        "function ClickConnect(){\n",
        "console.log(\"Working\"); \n",
        "document.querySelector(\"colab-toolbar-button#connect\").click() \n",
        "}\n",
        "setInterval(ClickConnect,60000)\n",
        "\n",
        "#move folder to another folder\n",
        "!mv /content/OID /content/darknet/data\n",
        "#move files from folder to another folder\n",
        "!mv /content/darknet/data/OID/Dataset/train/Crab/Label/*.txt /content/darknet/data/OID/Dataset/train/Crab\n",
        "#move yolov3.weight from drive to darknet\n",
        "%cd /content\n",
        "!cp \"/content/drive/My Drive/yolov3.weights\" /content/darknet\n",
        "# move images\n",
        "!cp /mydrive/FullIJCNN2013/* /content/darknet/img\n",
        "import os\n",
        "import shutil\n",
        "%cd /content\n",
        "for name in os.listdir('/content/drive/My Drive/annotation_38'):\n",
        "  for img in os.listdir('/content/darknet/img/'):\n",
        "    if(img.split('.')[0] == name.split('.')[0]):\n",
        "      print(\"success\")\n",
        "      shutil.move(\"/content/drive/My Drive/FullIJCNN2013/\" + img, \"/content/darknet/data/obj\")\n",
        "# to solve my drive space problem\n",
        "!ln -s /content/drive/My\\ Drive/ /mydrive\n",
        "!ls /mydrive"
      ],
      "execution_count": 0,
      "outputs": []
    },
    {
      "cell_type": "code",
      "metadata": {
        "id": "zIh4smm7PEry",
        "colab_type": "code",
        "cellView": "form",
        "colab": {}
      },
      "source": [
        "#@title Install YOLO & Darknet (We Don't Need It) { form-width: \"4.5%\" }\n",
        "# some weird things to install yolol and darknet\n",
        "# clone darknet repo\n",
        "# # %cd /content/\n",
        "!git clone https://github.com/AlexeyAB/darknet\n",
        "%cd darknet\n",
        "# change makefile to have GPU and OPENCV enabled\n",
        "%cd darknet\n",
        "!sed -i 's/OPENCV=0/OPENCV=1/' Makefile\n",
        "!sed -i 's/GPU=0/GPU=1/' Makefile\n",
        "!sed -i 's/CUDNN=0/CUDNN=1/' Makefile\n",
        "# verify CUDA\n",
        "!/usr/local/cuda/bin/nvcc --version\n",
        "# make darknet (build)\n",
        "!make\n",
        "################################### من فضلك اقرا\n",
        "# this line will download the weight which tark already download it and it on the drive\n",
        "#!wget https://pjreddie.com/media/files/yolov3.weights\n",
        "# !cp /mydrive/yolov3.weights /content/darknet\n",
        "# !./darknet detect cfg/yolov3.cfg yolov3.weights data/person.jpg\n",
        "# # define helper functions\n",
        "# def imShow(path):\n",
        "#   import cv2\n",
        "#   import matplotlib.pyplot as plt\n",
        "#   %matplotlib inline\n",
        "#   image = cv2.imread(path)\n",
        "#   height, width = image.shape[:2]\n",
        "#   resized_image = cv2.resize(image,(3*width, 3*height), interpolation = cv2.INTER_CUBIC)\n",
        "#   fig = plt.gcf()\n",
        "#   fig.set_size_inches(18, 10)\n",
        "#   plt.axis(\"off\")\n",
        "#   plt.imshow(cv2.cvtColor(resized_image, cv2.COLOR_BGR2RGB))\n",
        "#   plt.show()\n",
        "# imShow('predictions.jpg')"
      ],
      "execution_count": 0,
      "outputs": []
    },
    {
      "cell_type": "code",
      "metadata": {
        "id": "FBfH0rchLV1w",
        "colab_type": "code",
        "cellView": "form",
        "colab": {}
      },
      "source": [
        "#@title Mount Drive\n",
        "from google.colab import drive\n",
        "drive.mount('/content/drive')"
      ],
      "execution_count": 0,
      "outputs": []
    },
    {
      "cell_type": "code",
      "metadata": {
        "id": "oDx-zqBnaJIe",
        "colab_type": "code",
        "cellView": "form",
        "colab": {}
      },
      "source": [
        "#@title Rename Drive Path\n",
        "!ln -s /content/drive/My\\ Drive/ /mydrive\n",
        "!ls /mydrive"
      ],
      "execution_count": 0,
      "outputs": []
    },
    {
      "cell_type": "code",
      "metadata": {
        "id": "Qo4APULE6hka",
        "colab_type": "code",
        "cellView": "form",
        "colab": {}
      },
      "source": [
        "#@title Prepare Inviroment  { form-width: \"10%\" }\n",
        "# !cp -r /mydrive/backup_file_gp/darknet /content/\n",
        "!cp -r !cp -r /mydrive//YOLO_Last_Approch/darknet /content/"
      ],
      "execution_count": 0,
      "outputs": []
    },
    {
      "cell_type": "code",
      "metadata": {
        "id": "epkgnoVUOWrs",
        "colab_type": "code",
        "cellView": "form",
        "colab": {}
      },
      "source": [
        "#@title Give Permasion Run After Training\n",
        "!chmod 755 darknet\n",
        "%tensorflow_version 2.x"
      ],
      "execution_count": 0,
      "outputs": []
    },
    {
      "cell_type": "code",
      "metadata": {
        "id": "gYEtfU1wcxfv",
        "colab_type": "code",
        "cellView": "form",
        "colab": {}
      },
      "source": [
        "#@title imshow()\n",
        "def imShow(path):\n",
        "  import cv2\n",
        "  import matplotlib.pyplot as plt\n",
        "  %matplotlib inline\n",
        "  image = cv2.imread(path)\n",
        "  height, width = image.shape[:2]\n",
        "  resized_image = cv2.resize(image,(3*width, 3*height), interpolation = cv2.INTER_CUBIC)\n",
        "  fig = plt.gcf()\n",
        "  fig.set_size_inches(18, 10)\n",
        "  plt.axis(\"off\")\n",
        "  plt.imshow(cv2.cvtColor(resized_image, cv2.COLOR_BGR2RGB))\n",
        "  plt.show()"
      ],
      "execution_count": 0,
      "outputs": []
    },
    {
      "cell_type": "code",
      "metadata": {
        "id": "_9BsP81viiTN",
        "colab_type": "code",
        "cellView": "form",
        "colab": {}
      },
      "source": [
        "#@title Test If YOLO Is Working\n",
        "%cd /mydrive/YOLO_Last_Approch/darknet\n",
        "!./darknet detector test cfg/coco.data cfg/yolov3.cfg yolov3.weights data/dog.jpg\n",
        "def imShow(path):\n",
        "  import cv2\n",
        "  import matplotlib.pyplot as plt\n",
        "  %matplotlib inline\n",
        "  image = cv2.imread(path)\n",
        "  height, width = image.shape[:2]\n",
        "  resized_image = cv2.resize(image,(3*width, 3*height), interpolation = cv2.INTER_CUBIC)\n",
        "  fig = plt.gcf()\n",
        "  fig.set_size_inches(18, 10)\n",
        "  plt.axis(\"off\")\n",
        "  plt.imshow(cv2.cvtColor(resized_image, cv2.COLOR_BGR2RGB))\n",
        "  plt.show()\n",
        "imShow('predictions.jpg')"
      ],
      "execution_count": 0,
      "outputs": []
    },
    {
      "cell_type": "code",
      "metadata": {
        "colab_type": "code",
        "cellView": "form",
        "id": "ed2Ma8I0CT3L",
        "colab": {}
      },
      "source": [
        "#@title Train The Model Colab{ form-width: \"10%\" }\n",
        "# %%capture\n",
        "%cd /content/darknet\n",
        "# !./darknet detector train data/obj.data cfg/yolov3_custom.cfg darknet53.conv.74 -dont_show -map\n",
        "!./darknet detector train data/obj.data cfg/yolov3_custom.cfg /mydrive/YOLO_Last_Approch/backup/yolov3_custom_last.weights -dont_show -map"
      ],
      "execution_count": 0,
      "outputs": []
    },
    {
      "cell_type": "code",
      "metadata": {
        "id": "11QHc0ktPIuD",
        "colab_type": "code",
        "cellView": "form",
        "colab": {}
      },
      "source": [
        "#@title Train The Model Drive{ form-width: \"10%\" }\n",
        "%%capture\n",
        "%cd /mydrive/YOLO_Last_Approch/darknet\n",
        "!./darknet detector train data/obj.data cfg/yolov3_custom.cfg darknet53.conv.74 -dont_show -map\n",
        "# !./darknet detector train data/obj.data cfg/yolov3_custom.cfg /mydrive/YOLO_Last_Approch/backup/yolov3_custom_last.weights -dont_show -map"
      ],
      "execution_count": 0,
      "outputs": []
    },
    {
      "cell_type": "code",
      "metadata": {
        "id": "8__R4-uwc07Z",
        "colab_type": "code",
        "cellView": "form",
        "colab": {}
      },
      "source": [
        "#@title Test The Model drive{ form-width: \"10%\" }\n",
        "# run your custom detector with this command (upload an image to your google drive to test, thresh flag sets accuracy that detection must be in order to show it)\n",
        "%cd /mydrive/YOLO_Last_Approch/darknet\n",
        "# !./darknet detector test data/obj.data cfg/yolov3_customm.cfg /mydrive/YOLO_Last_Approch/backup/yolov3_custom_best.weights /mydrive/YOLO_Last_Approch/validationImages/3.jpg -thresh 0.1\n",
        "# imShow('predictions.jpg')\n",
        "!./darknet detector test data/obj.data cfg/yolov3_customm.cfg /mydrive/YOLO_Last_Approch/backup/yolov3_custom_final.weights /mydrive/YOLO_Last_Approch/validationImages/10.jpg -thresh 0.1\n",
        "\n",
        "imShow('predictions.jpg')"
      ],
      "execution_count": 0,
      "outputs": []
    },
    {
      "cell_type": "code",
      "metadata": {
        "id": "4BIJFOFbF8ni",
        "colab_type": "code",
        "cellView": "form",
        "colab": {}
      },
      "source": [
        "#@title Commands Below Must Run Cell By Cell To <br> Run Yolo On Video <br> Change Path If You See <strong>%cd</strong>\n"
      ],
      "execution_count": 0,
      "outputs": []
    },
    {
      "cell_type": "code",
      "metadata": {
        "id": "p0z_CLrmD-3i",
        "colab_type": "code",
        "colab": {}
      },
      "source": [
        "#Installing CUDA pre-requisites\n",
        "!wget https://developer.nvidia.com/compute/cuda/8.0/Prod2/local_installers/cuda-repo-ubuntu1604-8-0-local-ga2_8.0.61-1_amd64-deb\n",
        "!dpkg -i cuda-repo-ubuntu1604-8-0-local-ga2_8.0.61-1_amd64-deb"
      ],
      "execution_count": 0,
      "outputs": []
    },
    {
      "cell_type": "code",
      "metadata": {
        "id": "47xb4oCQEF3X",
        "colab_type": "code",
        "colab": {}
      },
      "source": [
        "!apt update"
      ],
      "execution_count": 0,
      "outputs": []
    },
    {
      "cell_type": "code",
      "metadata": {
        "id": "2H2TCTCyEKtb",
        "colab_type": "code",
        "colab": {}
      },
      "source": [
        "#Installing CUDA\n",
        "!apt install cuda-8-0 -y\n",
        "\n",
        "# If there is| an issue installing CUDA, \n",
        "# try installing cuda-visual-tools again\n",
        "# Comment the earlier command to install cuda\n",
        "# Uncomment and run the below command\n",
        "\n",
        "#!apt --fix-broken install cuda-visual-tools-8-0 -y"
      ],
      "execution_count": 0,
      "outputs": []
    },
    {
      "cell_type": "code",
      "metadata": {
        "id": "Zj9Wt9SPENhg",
        "colab_type": "code",
        "colab": {}
      },
      "source": [
        "import os\n",
        "os.environ['PATH'] += ':/usr/local/cuda/bin'"
      ],
      "execution_count": 0,
      "outputs": []
    },
    {
      "cell_type": "code",
      "metadata": {
        "id": "9IPp6fhDEVB4",
        "colab_type": "code",
        "colab": {}
      },
      "source": [
        "#Installing compilers\n",
        "!apt install gcc-5 g++-5 -y"
      ],
      "execution_count": 0,
      "outputs": []
    },
    {
      "cell_type": "code",
      "metadata": {
        "id": "0kvUnjWVEy3_",
        "colab_type": "code",
        "colab": {}
      },
      "source": [
        "!ln -s /usr/bin/gcc-5 /usr/local/cuda/bin/gcc \n",
        "!ln -s /usr/bin/g++-5 /usr/local/cuda/bin/g++"
      ],
      "execution_count": 0,
      "outputs": []
    },
    {
      "cell_type": "code",
      "metadata": {
        "id": "EX0C40ixEyp5",
        "colab_type": "code",
        "colab": {}
      },
      "source": [
        "import os\n",
        "os.environ['PATH'] += ':/usr/local/cuda/bin'"
      ],
      "execution_count": 0,
      "outputs": []
    },
    {
      "cell_type": "code",
      "metadata": {
        "id": "fCIfHqLgEyNW",
        "colab_type": "code",
        "colab": {}
      },
      "source": [
        "#Changing the variables to include OpenCV and GPU in the Makefile\n",
        "%cd /mydrive/YOLO_Last_Approch/darknet\n",
        "!sed -i 's/OPENCV=0/OPENCV=1/g' Makefile\n",
        "!sed -i 's/GPU=0/GPU=1/g' Makefile\n",
        "#!sed -i 's/CUDNN=0/CUDNN=1/g' Makefile"
      ],
      "execution_count": 0,
      "outputs": []
    },
    {
      "cell_type": "code",
      "metadata": {
        "id": "HO9VIHJUFKE0",
        "colab_type": "code",
        "colab": {}
      },
      "source": [
        "\n",
        "# And this is how our Makefile looks now\n",
        "# Check if OPENCV = 1 and GPU = 1\n",
        "!cat Makefile"
      ],
      "execution_count": 0,
      "outputs": []
    },
    {
      "cell_type": "code",
      "metadata": {
        "id": "IX0GndBPFJQS",
        "colab_type": "code",
        "colab": {}
      },
      "source": [
        "# Apparently we need to install this so that OpenCV can work without any issues\n",
        "# when we are making the file\n",
        "!apt-get install libopencv-dev"
      ],
      "execution_count": 0,
      "outputs": []
    },
    {
      "cell_type": "code",
      "metadata": {
        "id": "VePADK_pFJFr",
        "colab_type": "code",
        "colab": {}
      },
      "source": [
        "#Running make!\n",
        "!make"
      ],
      "execution_count": 0,
      "outputs": []
    },
    {
      "cell_type": "code",
      "metadata": {
        "id": "N-T2pfMpCthr",
        "colab_type": "code",
        "colab": {}
      },
      "source": [
        "%%capture\n",
        "%cd /mydrive/YOLO_Last_Approch/darknet\n",
        "!./darknet detector demo data/obj.data cfg/yolov3_custom.cfg /mydrive/YOLO_Last_Approch/backup/yolov3_custom_final.weights -dont_show /mydrive/YOLO_Last_Approch/video/2.mp4 -i 0 -out_filename res.avi"
      ],
      "execution_count": 0,
      "outputs": []
    },
    {
      "cell_type": "code",
      "metadata": {
        "id": "hWDKV_XlGdSw",
        "colab_type": "code",
        "colab": {}
      },
      "source": [
        "from google.colab import files\n",
        "files.download('/mydrive/YOLO_Last_Approch/darknet/res.avi')"
      ],
      "execution_count": 0,
      "outputs": []
    }
  ]
}